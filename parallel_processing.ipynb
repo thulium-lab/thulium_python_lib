{
 "cells": [
  {
   "cell_type": "code",
   "execution_count": null,
   "metadata": {
    "collapsed": true
   },
   "outputs": [],
   "source": [
    "from IPython import parallel\n",
    "from matplotlib.cbook import flatten\n",
    "import thulium_python_lib.image_processing as imp\n",
    "\n",
    "# Start claster and load_balance_view\n",
    "rc = parallel.Client()\n",
    "rc.ids\n",
    "lview = rc.load_balanced_view()\n",
    "\n",
    "with rc[:].sync_imports():\n",
    "    import sys, os\n",
    "    \n",
    "%px if r'D:\\\\!Data' not in sys.path: sys.path.append(r'D:\\\\!Data')\n",
    "%px import thulium_python_lib.image_processing as imp"
   ]
  },
  {
   "cell_type": "code",
   "execution_count": 7,
   "metadata": {
    "collapsed": false
   },
   "outputs": [],
   "source": [
    "def load_data_parallel(directory, do_fit2D = False, do_filtering=False):\n",
    "    import os, re\n",
    "    dirs = [os.path.join(directory,dr) for dr in os.listdir(directory) if re.match(r'[-+]?[0-9.]+ms',dr)]\n",
    "    #from operator import concat\n",
    "    #from functools import reduce\n",
    "    res = lview.map(imp.single_directory_load, dirs ,[do_fit2D]*len(dirs), [do_filtering]*len(dirs))\n",
    "    res.wait_interactive()\n",
    "    all_data = list(flatten(res.result))\n",
    "    # print outputs in each kernel\n",
    "    print(''.join([x['stdout'] for x in res.metadata]))\n",
    "    print('Total number of images: ', len(all_data))\n",
    "    return all_data"
   ]
  },
  {
   "cell_type": "code",
   "execution_count": null,
   "metadata": {
    "collapsed": true
   },
   "outputs": [],
   "source": [
    "def average_data_parallel(dataD, do_fit2D=True):\n",
    "    res = lview.map(imp.single_directory_average,dataD.items(),[do_fit2D]*len(dataD))\n",
    "    res.wait_interactive()\n",
    "    # print outputs in each kernel\n",
    "    print(''.join([x['stdout'] for x in res.metadata]))\n",
    "    return dict(res.result)"
   ]
  },
  {
   "cell_type": "code",
   "execution_count": null,
   "metadata": {
    "collapsed": true
   },
   "outputs": [],
   "source": [
    "def sift_parallel(dataD, confidence_interval = 0.1):\n",
    "    \"\"\"Currentlu not in use due to slower performance then usual one\"\"\"\n",
    "    res = lview.map(imp.single_directory_average,dataD.items(),[confidence_interval]*len(dataD))\n",
    "    res.wait_interactive()\n",
    "    # print outputs in each kernel\n",
    "    print(''.join([x['stdout'] for x in res.metadata]))\n",
    "    dataD = dict(res.result)"
   ]
  }
 ],
 "metadata": {
  "kernelspec": {
   "display_name": "Python 3",
   "language": "python",
   "name": "python3"
  },
  "language_info": {
   "codemirror_mode": {
    "name": "ipython",
    "version": 3
   },
   "file_extension": ".py",
   "mimetype": "text/x-python",
   "name": "python",
   "nbconvert_exporter": "python",
   "pygments_lexer": "ipython3",
   "version": "3.4.3"
  }
 },
 "nbformat": 4,
 "nbformat_minor": 0
}
