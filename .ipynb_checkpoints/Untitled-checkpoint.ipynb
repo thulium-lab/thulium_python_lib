{
 "cells": [
  {
   "cell_type": "code",
   "execution_count": null,
   "metadata": {
    "collapsed": true
   },
   "outputs": [],
   "source": [
    "# removed coeffitioent 2 in gaussian functions in exponents\n",
    "def gaussian(x,N,x0,sigma, background):\n",
    "    \"\"\"Returns value of a 1D-gaussian with the given parameters\"\"\"\n",
    "    #from numpy import sqrt,pi,exp\n",
    "    return N / (sigma * sqrt(pi)) * exp(-(x - x0)**2/(sigma**2)) + background\n",
    "\n",
    "def gaussian2D(N, x0, y0, sigma_x, sigma_y, background):\n",
    "    \"\"\"Returns a 2D-gaussian function with the given parameters\"\"\"\n",
    "    #from numpy import pi,exp\n",
    "    sigma_x = float(sigma_x)\n",
    "    sigma_y = float(sigma_y)\n",
    "    return lambda x,y: N / (sigma_x * sigma_y  * pi) * exp(\n",
    "                        -(((x - x0) / sigma_x)**2 + ((y - y0) / sigma_y)**2)) + background"
   ]
  },
  {
   "cell_type": "code",
   "execution_count": 1,
   "metadata": {
    "collapsed": true
   },
   "outputs": [],
   "source": [
    "class Image_Basics():\n",
    "    \"\"\"Basic image processing, with only center determination and background substructing. \n",
    "        isgood parameter is needed for indicating if smth wrong with image during it's processing \n",
    "        (i.e. if image is blank)\"\"\"\n",
    "    def __init__(self,image, image_url='not_defined'):\n",
    "        self.image_url = image_url\n",
    "        self.image = image\n",
    "        c_pos = self.image.argmax()\n",
    "        self.center_pos = (c_pos//self.image.shape[1], c_pos%self.image.shape[1])\n",
    "        self.image = self.bgd_substract()\n",
    "        self.total = sum(self.image)\n",
    "        self.isgood = True\n",
    "    def bgd_substract(self, slice_to_c = (-20,-1)):\n",
    "        \"\"\" Substracts background, which is calculated using vertical strip at right side\"\"\"\n",
    "        data_for_bgd_det = self.image[:,slice_to_c[0]:slice_to_c[1]]\n",
    "        av = sum(data_for_bgd_det,1)/data_for_bgd_det.shape[1]\n",
    "        return self.image - tile(av[:,newaxis],self.image.shape[1])\n",
    "    def fit_gaussian1D(self, axis, width=10):\n",
    "        from scipy.optimize import curve_fit\n",
    "        data = sum(self.image, axis)\n",
    "        popt, pcov = curve_fit(gaussian, range(len(data)), data, p0=(self.total, argmax(data), width, 0))\n",
    "        return popt\n",
    "    def fit_gaussian2D(self):\n",
    "        \"\"\"Returns (height, y, x, width_y, width_x)\n",
    "        the gaussian parameters of a 2D distribution found by a fit\"\"\"\n",
    "        from scipy import optimize\n",
    "        params = (self.total, self.fit1D_y[1], self.fit1D_x[1], self.fit1D_y[2], self.fit1D_x[2], 0)\n",
    "        errorfunction = lambda p: ravel(gaussian2D(*p)(*indices(self.image.shape)) -\n",
    "                                 self.image)\n",
    "        popt, success = optimize.leastsq(errorfunction, params)\n",
    "        return popt"
   ]
  }
 ],
 "metadata": {
  "kernelspec": {
   "display_name": "Python 3",
   "language": "python",
   "name": "python3"
  },
  "language_info": {
   "codemirror_mode": {
    "name": "ipython",
    "version": 3
   },
   "file_extension": ".py",
   "mimetype": "text/x-python",
   "name": "python",
   "nbconvert_exporter": "python",
   "pygments_lexer": "ipython3",
   "version": "3.5.1"
  }
 },
 "nbformat": 4,
 "nbformat_minor": 0
}
