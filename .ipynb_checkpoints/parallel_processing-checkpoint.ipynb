{
 "cells": [
  {
   "cell_type": "code",
   "execution_count": null,
   "metadata": {
    "collapsed": false
   },
   "outputs": [],
   "source": [
    "from IPython import parallel\n",
    "rc = parallel.Client()\n",
    "rc.ids\n",
    "lview = rc.load_balanced_view()\n",
    "import thulium_python_lib.image_processing as imp"
   ]
  },
  {
   "cell_type": "code",
   "execution_count": null,
   "metadata": {
    "collapsed": true
   },
   "outputs": [],
   "source": [
    "with rc[:].sync_imports():\n",
    "    import sys, os"
   ]
  },
  {
   "cell_type": "code",
   "execution_count": null,
   "metadata": {
    "collapsed": true
   },
   "outputs": [],
   "source": [
    "#sys.path.append(r'D:\\\\!Data')\n",
    "%px if r'D:\\\\!Data' not in sys.path: sys.path.append(r'D:\\\\!Data')"
   ]
  },
  {
   "cell_type": "code",
   "execution_count": null,
   "metadata": {
    "collapsed": true
   },
   "outputs": [],
   "source": [
    "%px import thulium_python_lib.image_processing as imp"
   ]
  },
  {
   "cell_type": "code",
   "execution_count": null,
   "metadata": {
    "collapsed": true
   },
   "outputs": [],
   "source": [
    "def load_data_parallel(directory, do_fit2D = False, do_filtering=False):\n",
    "    import os, re\n",
    "    dirs = [os.path.join(directory,dr) for dr in os.listdir(directory) if re.match(r'[-+]?[0-9.]+ms',dr)]\n",
    "    from operator import concat\n",
    "    from functools import reduce\n",
    "    res = lview.map(imp.single_directory_load, dirs ,[do_fit2D]*len(dirs), [do_filtering]*len(dirs))\n",
    "    res.wait_interactive()\n",
    "    all_data = reduce(concat,res.result)\n",
    "    print('Total number of images: ', len(all_data))\n",
    "    return all_data"
   ]
  },
  {
   "cell_type": "code",
   "execution_count": null,
   "metadata": {
    "collapsed": true
   },
   "outputs": [],
   "source": [
    "def average_data_parallel(dataD, do_fit2D=True):\n",
    "    res = lview.map(imp.single_directory_average,dataD.items(),[do_fit2D]*len(dataD))\n",
    "    res.wait_interactive()\n",
    "    return dict(res.result)"
   ]
  }
 ],
 "metadata": {
  "kernelspec": {
   "display_name": "Python 3",
   "language": "python",
   "name": "python3"
  },
  "language_info": {
   "codemirror_mode": {
    "name": "ipython",
    "version": 3
   },
   "file_extension": ".py",
   "mimetype": "text/x-python",
   "name": "python",
   "nbconvert_exporter": "python",
   "pygments_lexer": "ipython3",
   "version": "3.4.3"
  }
 },
 "nbformat": 4,
 "nbformat_minor": 0
}
