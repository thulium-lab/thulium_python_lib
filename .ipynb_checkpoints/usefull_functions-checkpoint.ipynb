{
 "cells": [
  {
   "cell_type": "code",
   "execution_count": null,
   "metadata": {
    "collapsed": true
   },
   "outputs": [],
   "source": [
    "\"\"\"\n",
    "Module for usefull functions\n",
    "\"\"\""
   ]
  },
  {
   "cell_type": "code",
   "execution_count": null,
   "metadata": {
    "collapsed": true
   },
   "outputs": [],
   "source": [
    "import numpy as np\n",
    "\n",
    "def exp_decay(t, N0, tau, background):\n",
    "    r'N0 * np.exp(- t / tau) + background'\n",
    "    return N0 * np.exp(- t / tau) + background\n",
    "\n",
    "def exp_decay_no_bg(t, N0, tau):\n",
    "    r'N0 * np.exp(- t / tau)'\n",
    "    return N0 * np.exp(- t / tau)\n",
    "\n",
    "def cloud_expansion(t, T, r0, t0):\n",
    "    r'np.sqrt(r0**2 + 2 * k_b * T * (t + 1*t0)**2 / m)'\n",
    "    k_b = 1.38e-23\n",
    "    m = 169 * 1.66e-27\n",
    "    return np.sqrt(r0**2 + 2 * k_b * T * (t + 1*t0)**2 / m)\n",
    "\n",
    "def cloud_expansion0(t, T, r0):\n",
    "    r'cloud_expansion(t, T, r0, 0)'\n",
    "    return cloud_expansion(t, T, r0, 0)\n",
    "\n",
    "def exp_grouth(t, N0, tau, background):\n",
    "    return N0 * ( 1 - np.exp( - t / tau)) + 0*background\n",
    "\n",
    "def construct_fit_description(fit_func, popt_T):\n",
    "    \"\"\"constructs a set of string of type 'variable=value\\n' for all [1:] function variables\"\"\"\n",
    "    from inspect import getargspec\n",
    "    res = ''\n",
    "    for item in zip(getargspec(fit_func)[0][1:], popt_T):\n",
    "        params = item[1] if hasattr(item[1],'__iter__') else [item[1]]\n",
    "        res += str(item[0]) + ' =   ' + '\\t'.join(['%.2f'%(x) for x in params]) + '\\n'\n",
    "    res = res.rstrip('\\n')\n",
    "    return res\n",
    "\n",
    "def lorentz(x, N, x0, sigma, background):\n",
    "    return N/pi * 1/2 * sigma / ( (x - x0)**2 + (1/2*sigma)**2) + background"
   ]
  },
  {
   "cell_type": "markdown",
   "metadata": {},
   "source": [
    "### Including some losses "
   ]
  },
  {
   "cell_type": "code",
   "execution_count": null,
   "metadata": {
    "collapsed": true
   },
   "outputs": [],
   "source": [
    "def tow_body_loss(t, N0, betta, background):\n",
    "    r'return 1 / ( betta * t + 1 / N0) + background'\n",
    "    return 1 / ( betta * t + 1 / N0) + background\n",
    "def exp_plus_tw_body_decay(t, N0, tau, betta,  background):\n",
    "    r'return N0 * exp(- t / tau) / ( 1 + betta * N0 * tau * (1 - exp( -t / tau))) + 0 * background'\n",
    "    return N0 * exp(- t / tau) / ( 1 + betta * N0 * tau * (1 - exp( -t / tau))) + 0 * background\n",
    "def two_frac_decay(t, N0, N1, tau, betta,  background):\n",
    "    r'return exp_decay(t, N0, tau, 0) + exp_plus_tw_body_decay(t,N1, tau, betta,  0) + abs(background)'\n",
    "    return exp_decay(t, N0, tau, 0) + exp_plus_tw_body_decay(t,N1, tau, betta,  0) + abs(background)\n",
    "def two_frac_decay_no_bg(t, N0, N1, tau, betta, background):\n",
    "    r'return two_frac_decay(t, N0, N1, tau, betta,0)'\n",
    "    return two_frac_decay(t, N0, N1, tau, betta,0)"
   ]
  }
 ],
 "metadata": {
  "hide_input": false,
  "kernelspec": {
   "display_name": "Python 3",
   "language": "python",
   "name": "python3"
  },
  "language_info": {
   "codemirror_mode": {
    "name": "ipython",
    "version": 3
   },
   "file_extension": ".py",
   "mimetype": "text/x-python",
   "name": "python",
   "nbconvert_exporter": "python",
   "pygments_lexer": "ipython3",
   "version": "3.5.0"
  },
  "latex_envs": {
   "bibliofile": "biblio.bib",
   "cite_by": "apalike",
   "current_citInitial": 1,
   "eqLabelWithNumbers": true,
   "eqNumInitial": 0
  }
 },
 "nbformat": 4,
 "nbformat_minor": 0
}
